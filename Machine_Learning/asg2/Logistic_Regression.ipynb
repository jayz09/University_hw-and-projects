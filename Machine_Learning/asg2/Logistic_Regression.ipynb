{
  "nbformat": 4,
  "nbformat_minor": 0,
  "metadata": {
    "colab": {
      "provenance": []
    },
    "kernelspec": {
      "name": "python3",
      "display_name": "Python 3"
    },
    "language_info": {
      "name": "python"
    }
  },
  "cells": [
    {
      "cell_type": "markdown",
      "source": [
        "TASK 1 Train a classifier with train.csv."
      ],
      "metadata": {
        "id": "pHFI29flSCU-"
      }
    },
    {
      "cell_type": "code",
      "execution_count": 311,
      "metadata": {
        "id": "DzSNyfTiR1zO"
      },
      "outputs": [],
      "source": [
        "# Import Libraries\n",
        "import pandas as pd\n",
        "import numpy as np\n",
        "import matplotlib.pyplot as plt"
      ]
    },
    {
      "cell_type": "code",
      "source": [
        "# Import Data\n",
        "data_train = pd.read_csv('hw2_train.csv')\n",
        "data_test = pd.read_csv('hw2_test.csv')\n",
        "# Train Data Set\n",
        "x_train = data_train.drop(['y'], axis = 1)\n",
        "x1_train = data_train['x1']\n",
        "x2_train = data_train['x2']\n",
        "y_train = data_train['y']\n",
        "# Test Data Set\n",
        "x_test = data_test.drop(['y'], axis = 1)\n",
        "x1_test = data_test['x1']\n",
        "x2_test = data_test['x2']\n",
        "y_test = data_test['y']"
      ],
      "metadata": {
        "id": "dVJWYNpZS5xp"
      },
      "execution_count": 312,
      "outputs": []
    },
    {
      "cell_type": "code",
      "source": [
        "# Visualize Data\n",
        "df = pd.DataFrame(dict(x=data_train['x1'], y=data_train['x2'], label=data_train['y']))\n",
        "colors = {0:'red', 1:'blue'}\n",
        "fig, ax = plt.subplots()\n",
        "grouped = df.groupby('label')\n",
        "for key, group in grouped:\n",
        "    group.plot(ax=ax, kind='scatter', x='x', y='y', label=key, color=colors[key])\n",
        "plt.show()"
      ],
      "metadata": {
        "colab": {
          "base_uri": "https://localhost:8080/",
          "height": 283
        },
        "id": "zAXb3IQCV_uj",
        "outputId": "1563f166-f053-4957-fb9b-5eaa57679206"
      },
      "execution_count": 313,
      "outputs": [
        {
          "output_type": "display_data",
          "data": {
            "text/plain": [
              "<Figure size 432x288 with 1 Axes>"
            ],
            "image/png": "[encoded data removed]"
          },
          "metadata": {
            "needs_background": "light"
          }
        }
      ]
    },
    {
      "cell_type": "code",
      "source": [
        "def sigmoid(x1,x2,b0,b1,b2):\n",
        "    return 1 / (1 + np.exp(-1 * b0 + -1 * b1 * x1 + -1 * b2 * x2))"
      ],
      "metadata": {
        "id": "LkFrjnSsFcEz"
      },
      "execution_count": 314,
      "outputs": []
    },
    {
      "cell_type": "code",
      "source": [
        "# Logistic Regression Function\n",
        "def logistic_regression(x1,x2,y):\n",
        "\n",
        "    # Initialization\n",
        "    b0 = 0\n",
        "    b1 = 0\n",
        "    b2 = 0\n",
        "    m = int(len(x1))\n",
        "    l_rate = 0.1 #step size or learning rate\n",
        "\n",
        "    for epoch in range(len(x1)):\n",
        "        y_pred = sigmoid(x1,x2,b0,b1,b2)\n",
        "        # Calculate loss\n",
        "        loss = sum((y - y_pred)**2)\n",
        "        # Partial derivatives of cost function\n",
        "        pd_b0 = 1/m * sum((y_pred - y))\n",
        "        pd_b1 = 1/m * sum((y_pred - y) * x1) \n",
        "        pd_b2 = 1/m * sum((y_pred - y) * x2)\n",
        "\n",
        "        # Update parameters\n",
        "        b0 = b0 - l_rate * pd_b0\n",
        "        b1 = b1 - l_rate * pd_b1\n",
        "        b2 = b2 - l_rate * pd_b2\n",
        "\n",
        "    return b0, b1, b2, loss"
      ],
      "metadata": {
        "id": "7297cALyWx2u"
      },
      "execution_count": 315,
      "outputs": []
    },
    {
      "cell_type": "code",
      "source": [
        "# Result for task 1\n",
        "b0, b1, b2, loss = logistic_regression(x1_train, x2_train, y_train)\n",
        "\n",
        "print(f\"Result of parameters:\\nb0: {b0}\\nb1: {b1}\\nb2: {b2}\\n\")\n",
        "print(f\"Train Cost: {loss}\")"
      ],
      "metadata": {
        "colab": {
          "base_uri": "https://localhost:8080/"
        },
        "id": "XgQ0rn_OIxPz",
        "outputId": "fc9a7d79-e57e-4074-e449-f7c2f1a0b5c2"
      },
      "execution_count": 316,
      "outputs": [
        {
          "output_type": "stream",
          "name": "stdout",
          "text": [
            "Result of parameters:\n",
            "b0: 1.9174477275040331\n",
            "b1: -3.3005265286474095\n",
            "b2: -0.9790809107290367\n",
            "\n",
            "Train Cost: 47.40494622510558\n"
          ]
        }
      ]
    },
    {
      "cell_type": "markdown",
      "source": [
        "TASK 2 Classify the data in test.csv using the trained model"
      ],
      "metadata": {
        "id": "SsB3IanHiFFf"
      }
    },
    {
      "cell_type": "code",
      "source": [
        "# Result for task 2\n",
        "y_pred = sigmoid(x1_test,x2_test,b0,b1,b2)\n",
        "loss_test = sum((y_test - y_pred)**2)\n",
        "y_pred = [1 if y > 0.5 else 0 for y in y_pred]\n",
        "\n",
        "print(f\"Test Cost: {loss_test}\")\n",
        "\n",
        "accuracy = 0\n",
        "for i in range(len(y_pred)):\n",
        "    if y_pred[i] == y_test.iloc[i]:\n",
        "        accuracy +=1\n",
        "print(f\"Accuracy = {accuracy / len(y_pred)}\")"
      ],
      "metadata": {
        "colab": {
          "base_uri": "https://localhost:8080/"
        },
        "id": "00nBDSGbiDwZ",
        "outputId": "9210029f-e843-4d79-cf65-2ed2b52b37fb"
      },
      "execution_count": 317,
      "outputs": [
        {
          "output_type": "stream",
          "name": "stdout",
          "text": [
            "Test Cost: 13.514992525012119\n",
            "Accuracy = 0.964\n"
          ]
        }
      ]
    },
    {
      "cell_type": "code",
      "source": [
        "# Plot of the graph\n",
        "c = -b0/b2\n",
        "m = -b1/b2\n",
        "\n",
        "X_db = np.linspace(-3, 5, 1000)\n",
        "y_db = m*X_db + c\n",
        "\n",
        "df = pd.DataFrame(dict(x=x1_test, y=x2_test, label=y_pred))\n",
        "colors = {0:'red', 1:'blue'}\n",
        "fig, ax = plt.subplots()\n",
        "grouped = df.groupby('label')\n",
        "for key, group in grouped:\n",
        "    group.plot(ax=ax, kind='scatter', x='x', y='y', label=key, color=colors[key])\n",
        "\n",
        "ax.plot(X_db, y_db, 'orange', label='Decision Boundary')\n",
        "leg = ax.legend()\n",
        "plt.show()"
      ],
      "metadata": {
        "colab": {
          "base_uri": "https://localhost:8080/",
          "height": 279
        },
        "id": "zsMNK2iHjEA9",
        "outputId": "cd800487-42ef-4a4e-e907-3e8ec92f2707"
      },
      "execution_count": 318,
      "outputs": [
        {
          "output_type": "display_data",
          "data": {
            "text/plain": [
              "<Figure size 432x288 with 1 Axes>"
            ],
            "image/png": "[encoded data removed]"
          },
          "metadata": {
            "needs_background": "light"
          }
        }
      ]
    },
    {
      "cell_type": "markdown",
      "source": [
        "THE CODE BELOW JUST TO COMPARE IF WE'RE USING SKLEARN"
      ],
      "metadata": {
        "id": "5Op_sfrpiPY4"
      }
    },
    {
      "cell_type": "code",
      "source": [
        "# Making predictions using scikit learn\n",
        "from sklearn.linear_model import LogisticRegression\n",
        "\n",
        "# Create an instance and fit the model \n",
        "lr_model = LogisticRegression()\n",
        "lr_model.fit(x_train, y_train)\n",
        "\n",
        "# Making predictions\n",
        "y_pred_sk = lr_model.predict(x_test)\n",
        "\n",
        "# Accuracy\n",
        "print(f\"Accuracy = {lr_model.score(x_test, y_test)}\")"
      ],
      "metadata": {
        "colab": {
          "base_uri": "https://localhost:8080/"
        },
        "id": "VSelw5BkbIdj",
        "outputId": "b08911d9-e9d4-4c89-b9ec-83fbf0f62b6d"
      },
      "execution_count": 319,
      "outputs": [
        {
          "output_type": "stream",
          "name": "stdout",
          "text": [
            "Accuracy = 0.966\n"
          ]
        }
      ]
    }
  ]
}